{
 "cells": [
  {
   "cell_type": "code",
   "execution_count": 1,
   "metadata": {},
   "outputs": [
    {
     "name": "stdout",
     "output_type": "stream",
     "text": [
      "3.7.4\n"
     ]
    }
   ],
   "source": [
    "from platform import python_version\n",
    "print(python_version())"
   ]
  },
  {
   "cell_type": "code",
   "execution_count": 3,
   "metadata": {},
   "outputs": [
    {
     "name": "stdout",
     "output_type": "stream",
     "text": [
      "2019-11-06 18:43:49.518842\n"
     ]
    }
   ],
   "source": [
    "from datetime import datetime\n",
    "t=datetime.now()\n",
    "print(t)"
   ]
  },
  {
   "cell_type": "code",
   "execution_count": 6,
   "metadata": {},
   "outputs": [
    {
     "name": "stdout",
     "output_type": "stream",
     "text": [
      "please enter radius of circle4\n",
      "100.48\n"
     ]
    }
   ],
   "source": [
    "radius =int(input(\"please enter radius of circle\"));\n",
    "area=2*3.14*radius**2;\n",
    "print(str(area));"
   ]
  },
  {
   "cell_type": "code",
   "execution_count": 7,
   "metadata": {},
   "outputs": [
    {
     "name": "stdout",
     "output_type": "stream",
     "text": [
      "first name:maaz\n",
      "last name:qureshi\n",
      "qureshi maaz\n"
     ]
    }
   ],
   "source": [
    "firstName=input(\"first name:\")\n",
    "lastName=input(\"last name:\")\n",
    "print(lastName+\" \"+firstName)"
   ]
  },
  {
   "cell_type": "code",
   "execution_count": 9,
   "metadata": {},
   "outputs": [
    {
     "name": "stdout",
     "output_type": "stream",
     "text": [
      "first number:4\n",
      "last number:5\n",
      "9\n"
     ]
    }
   ],
   "source": [
    "firstNumber=int(input(\"first number:\"))\n",
    "lastNumber=int(input(\"last number:\"))\n",
    "print(str(lastNumber+firstNumber))"
   ]
  },
  {
   "cell_type": "code",
   "execution_count": null,
   "metadata": {},
   "outputs": [],
   "source": []
  }
 ],
 "metadata": {
  "kernelspec": {
   "display_name": "Python 3",
   "language": "python",
   "name": "python3"
  },
  "language_info": {
   "codemirror_mode": {
    "name": "ipython",
    "version": 3
   },
   "file_extension": ".py",
   "mimetype": "text/x-python",
   "name": "python",
   "nbconvert_exporter": "python",
   "pygments_lexer": "ipython3",
   "version": "3.7.4"
  }
 },
 "nbformat": 4,
 "nbformat_minor": 2
}
